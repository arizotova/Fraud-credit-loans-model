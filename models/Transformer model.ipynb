{
 "cells": [
  {
   "cell_type": "code",
   "execution_count": 2,
   "id": "8z2iPHjRnW0T",
   "metadata": {
    "colab": {
     "base_uri": "https://localhost:8080/"
    },
    "collapsed": true,
    "executionInfo": {
     "elapsed": 65550,
     "status": "ok",
     "timestamp": 1717878394334,
     "user": {
      "displayName": "Anastasiia Izotova",
      "userId": "15859688708138804818"
     },
     "user_tz": -180
    },
    "id": "8z2iPHjRnW0T",
    "jupyter": {
     "outputs_hidden": true
    },
    "outputId": "399343e2-6470-4281-f143-d7bb742da7a6",
    "tags": []
   },
   "outputs": [
    {
     "name": "stdout",
     "output_type": "stream",
     "text": [
      "Defaulting to user installation because normal site-packages is not writeable\n",
      "Looking in indexes: https://nexus.isb/repository/pypiorg-pypi-proxy/simple\n",
      "Requirement already satisfied: delu in /home/jovyan/.local/lib/python3.9/site-packages (0.0.23)\n",
      "Requirement already satisfied: rtdl_revisiting_models in /home/jovyan/.local/lib/python3.9/site-packages (0.0.2)\n",
      "Requirement already satisfied: torch<3,>=1.8 in /home/jovyan/.local/lib/python3.9/site-packages (from delu) (2.3.1)\n",
      "Requirement already satisfied: numpy<2,>=1.18 in /usr/local/lib/python3.9/site-packages (from delu) (1.19.5)\n",
      "Requirement already satisfied: filelock in /usr/local/lib/python3.9/site-packages (from torch<3,>=1.8->delu) (3.9.0)\n",
      "Requirement already satisfied: sympy in /home/jovyan/.local/lib/python3.9/site-packages (from torch<3,>=1.8->delu) (1.12.1)\n",
      "Requirement already satisfied: typing-extensions>=4.8.0 in /home/jovyan/.local/lib/python3.9/site-packages (from torch<3,>=1.8->delu) (4.12.2)\n",
      "Requirement already satisfied: fsspec in /usr/local/lib/python3.9/site-packages (from torch<3,>=1.8->delu) (2022.11.0)\n",
      "Requirement already satisfied: nvidia-cuda-cupti-cu12==12.1.105 in /home/jovyan/.local/lib/python3.9/site-packages (from torch<3,>=1.8->delu) (12.1.105)\n",
      "Requirement already satisfied: nvidia-cufft-cu12==11.0.2.54 in /home/jovyan/.local/lib/python3.9/site-packages (from torch<3,>=1.8->delu) (11.0.2.54)\n",
      "Requirement already satisfied: nvidia-curand-cu12==10.3.2.106 in /home/jovyan/.local/lib/python3.9/site-packages (from torch<3,>=1.8->delu) (10.3.2.106)\n",
      "Requirement already satisfied: jinja2 in /usr/local/lib/python3.9/site-packages (from torch<3,>=1.8->delu) (3.1.2)\n",
      "Requirement already satisfied: nvidia-nvtx-cu12==12.1.105 in /home/jovyan/.local/lib/python3.9/site-packages (from torch<3,>=1.8->delu) (12.1.105)\n",
      "Requirement already satisfied: networkx in /usr/local/lib/python3.9/site-packages (from torch<3,>=1.8->delu) (2.8.8)\n",
      "Requirement already satisfied: nvidia-nccl-cu12==2.20.5 in /home/jovyan/.local/lib/python3.9/site-packages (from torch<3,>=1.8->delu) (2.20.5)\n",
      "Requirement already satisfied: triton==2.3.1 in /home/jovyan/.local/lib/python3.9/site-packages (from torch<3,>=1.8->delu) (2.3.1)\n",
      "Requirement already satisfied: nvidia-cusolver-cu12==11.4.5.107 in /home/jovyan/.local/lib/python3.9/site-packages (from torch<3,>=1.8->delu) (11.4.5.107)\n",
      "Requirement already satisfied: nvidia-cusparse-cu12==12.1.0.106 in /home/jovyan/.local/lib/python3.9/site-packages (from torch<3,>=1.8->delu) (12.1.0.106)\n",
      "Requirement already satisfied: nvidia-cuda-runtime-cu12==12.1.105 in /home/jovyan/.local/lib/python3.9/site-packages (from torch<3,>=1.8->delu) (12.1.105)\n",
      "Requirement already satisfied: nvidia-cuda-nvrtc-cu12==12.1.105 in /home/jovyan/.local/lib/python3.9/site-packages (from torch<3,>=1.8->delu) (12.1.105)\n",
      "Requirement already satisfied: nvidia-cudnn-cu12==8.9.2.26 in /home/jovyan/.local/lib/python3.9/site-packages (from torch<3,>=1.8->delu) (8.9.2.26)\n",
      "Requirement already satisfied: nvidia-cublas-cu12==12.1.3.1 in /home/jovyan/.local/lib/python3.9/site-packages (from torch<3,>=1.8->delu) (12.1.3.1)\n",
      "Requirement already satisfied: nvidia-nvjitlink-cu12 in /home/jovyan/.local/lib/python3.9/site-packages (from nvidia-cusolver-cu12==11.4.5.107->torch<3,>=1.8->delu) (12.5.40)\n",
      "Requirement already satisfied: MarkupSafe>=2.0 in /usr/local/lib/python3.9/site-packages (from jinja2->torch<3,>=1.8->delu) (2.1.1)\n",
      "Requirement already satisfied: mpmath<1.4.0,>=1.1.0 in /home/jovyan/.local/lib/python3.9/site-packages (from sympy->torch<3,>=1.8->delu) (1.3.0)\n"
     ]
    }
   ],
   "source": [
    "!pip install delu rtdl_revisiting_models"
   ]
  },
  {
   "cell_type": "code",
   "execution_count": 8,
   "id": "7abbed8d-ec1d-46c4-b09c-610f20b6723f",
   "metadata": {
    "collapsed": true,
    "jupyter": {
     "outputs_hidden": true
    },
    "tags": []
   },
   "outputs": [
    {
     "name": "stdout",
     "output_type": "stream",
     "text": [
      "Defaulting to user installation because normal site-packages is not writeable\n",
      "Looking in indexes: https://nexus.isb/repository/pypiorg-pypi-proxy/simple\n",
      "Requirement already satisfied: torch in /home/jovyan/.local/lib/python3.9/site-packages (2.3.1)\n",
      "Collecting torchvision\n",
      "  Downloading https://nexus.isb/repository/pypiorg-pypi-proxy/packages/torchvision/0.18.1/torchvision-0.18.1-cp39-cp39-manylinux1_x86_64.whl (7.0 MB)\n",
      "\u001b[K     |████████████████████████████████| 7.0 MB 11.8 MB/s eta 0:00:01�███              | 3.9 MB 11.8 MB/s eta 0:00:01\n",
      "\u001b[?25hCollecting torchaudio\n",
      "  Downloading https://nexus.isb/repository/pypiorg-pypi-proxy/packages/torchaudio/2.3.1/torchaudio-2.3.1-cp39-cp39-manylinux1_x86_64.whl (3.4 MB)\n",
      "\u001b[K     |████████████████████████████████| 3.4 MB 22.7 MB/s eta 0:00:01\n",
      "\u001b[?25hRequirement already satisfied: nvidia-curand-cu12==10.3.2.106 in /home/jovyan/.local/lib/python3.9/site-packages (from torch) (10.3.2.106)\n",
      "Requirement already satisfied: nvidia-cusparse-cu12==12.1.0.106 in /home/jovyan/.local/lib/python3.9/site-packages (from torch) (12.1.0.106)\n",
      "Requirement already satisfied: nvidia-cufft-cu12==11.0.2.54 in /home/jovyan/.local/lib/python3.9/site-packages (from torch) (11.0.2.54)\n",
      "Requirement already satisfied: nvidia-cuda-cupti-cu12==12.1.105 in /home/jovyan/.local/lib/python3.9/site-packages (from torch) (12.1.105)\n",
      "Requirement already satisfied: triton==2.3.1 in /home/jovyan/.local/lib/python3.9/site-packages (from torch) (2.3.1)\n",
      "Requirement already satisfied: jinja2 in /usr/local/lib/python3.9/site-packages (from torch) (3.1.2)\n",
      "Requirement already satisfied: nvidia-cuda-nvrtc-cu12==12.1.105 in /home/jovyan/.local/lib/python3.9/site-packages (from torch) (12.1.105)\n",
      "Requirement already satisfied: filelock in /usr/local/lib/python3.9/site-packages (from torch) (3.9.0)\n",
      "Requirement already satisfied: nvidia-nvtx-cu12==12.1.105 in /home/jovyan/.local/lib/python3.9/site-packages (from torch) (12.1.105)\n",
      "Requirement already satisfied: nvidia-nccl-cu12==2.20.5 in /home/jovyan/.local/lib/python3.9/site-packages (from torch) (2.20.5)\n",
      "Requirement already satisfied: typing-extensions>=4.8.0 in /home/jovyan/.local/lib/python3.9/site-packages (from torch) (4.12.2)\n",
      "Requirement already satisfied: sympy in /home/jovyan/.local/lib/python3.9/site-packages (from torch) (1.12.1)\n",
      "Requirement already satisfied: networkx in /usr/local/lib/python3.9/site-packages (from torch) (2.8.8)\n",
      "Requirement already satisfied: fsspec in /usr/local/lib/python3.9/site-packages (from torch) (2022.11.0)\n",
      "Requirement already satisfied: nvidia-cusolver-cu12==11.4.5.107 in /home/jovyan/.local/lib/python3.9/site-packages (from torch) (11.4.5.107)\n",
      "Requirement already satisfied: nvidia-cublas-cu12==12.1.3.1 in /home/jovyan/.local/lib/python3.9/site-packages (from torch) (12.1.3.1)\n",
      "Requirement already satisfied: nvidia-cuda-runtime-cu12==12.1.105 in /home/jovyan/.local/lib/python3.9/site-packages (from torch) (12.1.105)\n",
      "Requirement already satisfied: nvidia-cudnn-cu12==8.9.2.26 in /home/jovyan/.local/lib/python3.9/site-packages (from torch) (8.9.2.26)\n",
      "Requirement already satisfied: nvidia-nvjitlink-cu12 in /home/jovyan/.local/lib/python3.9/site-packages (from nvidia-cusolver-cu12==11.4.5.107->torch) (12.5.40)\n",
      "Requirement already satisfied: numpy in /usr/local/lib/python3.9/site-packages (from torchvision) (1.19.5)\n",
      "Requirement already satisfied: pillow!=8.3.*,>=5.3.0 in /usr/local/lib/python3.9/site-packages (from torchvision) (9.4.0)\n",
      "Requirement already satisfied: MarkupSafe>=2.0 in /usr/local/lib/python3.9/site-packages (from jinja2->torch) (2.1.1)\n",
      "Requirement already satisfied: mpmath<1.4.0,>=1.1.0 in /home/jovyan/.local/lib/python3.9/site-packages (from sympy->torch) (1.3.0)\n",
      "Installing collected packages: torchvision, torchaudio\n",
      "Successfully installed torchaudio-2.3.1 torchvision-0.18.1\n"
     ]
    }
   ],
   "source": [
    "!pip install torch torchvision torchaudio"
   ]
  },
  {
   "cell_type": "code",
   "execution_count": 1,
   "id": "e58f6563-bfef-4753-8954-a50688f8c026",
   "metadata": {
    "id": "e58f6563-bfef-4753-8954-a50688f8c026"
   },
   "outputs": [],
   "source": [
    "import pandas as pd\n",
    "import numpy as np\n",
    "import math\n",
    "from sklearn.model_selection import train_test_split\n",
    "\n",
    "from sklearn.preprocessing import LabelEncoder\n",
    "from sklearn.preprocessing import StandardScaler\n",
    "\n",
    "pd.set_option('display.max_rows', None)\n",
    "pd.set_option('display.max_columns', None)\n",
    "\n",
    "import delu\n",
    "#import rtdl\n",
    "from rtdl_revisiting_models import FTTransformer\n",
    "\n",
    "from tqdm.std import tqdm\n",
    "\n",
    "import torch\n",
    "import torch.nn as nn\n",
    "import torch.optim as optim\n",
    "from torch.utils.data import TensorDataset, DataLoader, Dataset\n",
    "from functools import partial\n",
    "import sklearn.model_selection\n",
    "import sklearn.preprocessing\n",
    "from sklearn.metrics import recall_score, precision_score\n",
    "from sklearn.metrics import roc_auc_score\n",
    "\n",
    "import otp.stable.connections as otpc\n",
    "\n",
    "pd.set_option('display.max_columns', 500)\n",
    "pd.set_option('display.max_rows', 100)\n",
    "pd.set_option('max_colwidth', 500)\n",
    "\n",
    "username = ****\n",
    "password = ****"
   ]
  },
  {
   "cell_type": "code",
   "execution_count": 2,
   "id": "904ee99e-6863-4534-8c19-4488270bedf2",
   "metadata": {
    "id": "904ee99e-6863-4534-8c19-4488270bedf2"
   },
   "outputs": [],
   "source": [
    "device = torch.device(\"cuda\" if torch.cuda.is_available() else \"cpu\")"
   ]
  },
  {
   "cell_type": "code",
   "execution_count": null,
   "id": "50963ce0-5a9a-4398-82c6-237dca1a2715",
   "metadata": {},
   "outputs": [],
   "source": [
    "# df = otpc.load_oracle('''\n",
    "# select *\n",
    "# from iar_transformer_model_data_prefinal_ver4\n",
    "# ''',username, password)"
   ]
  },
  {
   "cell_type": "code",
   "execution_count": 3,
   "id": "b3b47b3d-6eb2-473b-9a71-03a1bbcb563d",
   "metadata": {},
   "outputs": [
    {
     "data": {
      "text/html": [
       "<div>\n",
       "<style scoped>\n",
       "    .dataframe tbody tr th:only-of-type {\n",
       "        vertical-align: middle;\n",
       "    }\n",
       "\n",
       "    .dataframe tbody tr th {\n",
       "        vertical-align: top;\n",
       "    }\n",
       "\n",
       "    .dataframe thead th {\n",
       "        text-align: right;\n",
       "    }\n",
       "</style>\n",
       "<table border=\"1\" class=\"dataframe\">\n",
       "  <thead>\n",
       "    <tr style=\"text-align: right;\">\n",
       "      <th></th>\n",
       "      <th>application_id</th>\n",
       "      <th>product_grp</th>\n",
       "      <th>agr_lims</th>\n",
       "      <th>used_score</th>\n",
       "      <th>personal_income</th>\n",
       "      <th>payment</th>\n",
       "      <th>ltb</th>\n",
       "      <th>circle</th>\n",
       "      <th>paymax</th>\n",
       "      <th>cnt_all_apps_last7days</th>\n",
       "      <th>cnt_all_apps_last30days</th>\n",
       "      <th>cnt_all_apps_last90days</th>\n",
       "      <th>cnt_refused_apps_last7days</th>\n",
       "      <th>cnt_refused_apps_last30days</th>\n",
       "      <th>cnt_refused_apps_last90days</th>\n",
       "      <th>online_flg</th>\n",
       "      <th>bureau_hist_due</th>\n",
       "      <th>appnumberofappslm</th>\n",
       "      <th>count_bureau_credits_less_730_days</th>\n",
       "      <th>client_segment</th>\n",
       "      <th>target</th>\n",
       "      <th>rn</th>\n",
       "      <th>cnt_open_agr_7</th>\n",
       "      <th>cnt_open_agr_30</th>\n",
       "      <th>cnt_open_agr_90</th>\n",
       "      <th>transf_prob</th>\n",
       "    </tr>\n",
       "  </thead>\n",
       "  <tbody>\n",
       "    <tr>\n",
       "      <th>0</th>\n",
       "      <td>EM-1291754</td>\n",
       "      <td>cash</td>\n",
       "      <td>55000</td>\n",
       "      <td>687</td>\n",
       "      <td>38000</td>\n",
       "      <td>2500</td>\n",
       "      <td>5</td>\n",
       "      <td>5</td>\n",
       "      <td>4</td>\n",
       "      <td>6</td>\n",
       "      <td>6</td>\n",
       "      <td>7</td>\n",
       "      <td>0</td>\n",
       "      <td>0</td>\n",
       "      <td>0</td>\n",
       "      <td>1</td>\n",
       "      <td>4817</td>\n",
       "      <td>-1</td>\n",
       "      <td>-1</td>\n",
       "      <td>OTP</td>\n",
       "      <td>0</td>\n",
       "      <td>1</td>\n",
       "      <td>0</td>\n",
       "      <td>0</td>\n",
       "      <td>0</td>\n",
       "      <td>0.160092</td>\n",
       "    </tr>\n",
       "    <tr>\n",
       "      <th>1</th>\n",
       "      <td>EM-1381870</td>\n",
       "      <td>cash</td>\n",
       "      <td>218771</td>\n",
       "      <td>666</td>\n",
       "      <td>95000</td>\n",
       "      <td>6281</td>\n",
       "      <td>5</td>\n",
       "      <td>5</td>\n",
       "      <td>3</td>\n",
       "      <td>3</td>\n",
       "      <td>3</td>\n",
       "      <td>3</td>\n",
       "      <td>0</td>\n",
       "      <td>0</td>\n",
       "      <td>0</td>\n",
       "      <td>1</td>\n",
       "      <td>3973</td>\n",
       "      <td>-1</td>\n",
       "      <td>-1</td>\n",
       "      <td>OTP</td>\n",
       "      <td>0</td>\n",
       "      <td>1</td>\n",
       "      <td>0</td>\n",
       "      <td>0</td>\n",
       "      <td>0</td>\n",
       "      <td>0.061289</td>\n",
       "    </tr>\n",
       "    <tr>\n",
       "      <th>2</th>\n",
       "      <td>EM-1382144</td>\n",
       "      <td>cash</td>\n",
       "      <td>106233</td>\n",
       "      <td>671</td>\n",
       "      <td>50000</td>\n",
       "      <td>9340</td>\n",
       "      <td>5</td>\n",
       "      <td>5</td>\n",
       "      <td>3</td>\n",
       "      <td>10</td>\n",
       "      <td>10</td>\n",
       "      <td>10</td>\n",
       "      <td>4</td>\n",
       "      <td>4</td>\n",
       "      <td>4</td>\n",
       "      <td>1</td>\n",
       "      <td>3698</td>\n",
       "      <td>-1</td>\n",
       "      <td>-1</td>\n",
       "      <td>OTP</td>\n",
       "      <td>0</td>\n",
       "      <td>1</td>\n",
       "      <td>0</td>\n",
       "      <td>0</td>\n",
       "      <td>0</td>\n",
       "      <td>0.826771</td>\n",
       "    </tr>\n",
       "    <tr>\n",
       "      <th>3</th>\n",
       "      <td>EM-1382832</td>\n",
       "      <td>cash</td>\n",
       "      <td>130671</td>\n",
       "      <td>678</td>\n",
       "      <td>30000</td>\n",
       "      <td>3764</td>\n",
       "      <td>5</td>\n",
       "      <td>5</td>\n",
       "      <td>3</td>\n",
       "      <td>6</td>\n",
       "      <td>6</td>\n",
       "      <td>6</td>\n",
       "      <td>0</td>\n",
       "      <td>0</td>\n",
       "      <td>0</td>\n",
       "      <td>1</td>\n",
       "      <td>4374</td>\n",
       "      <td>-1</td>\n",
       "      <td>-1</td>\n",
       "      <td>OTP</td>\n",
       "      <td>1</td>\n",
       "      <td>1</td>\n",
       "      <td>0</td>\n",
       "      <td>0</td>\n",
       "      <td>0</td>\n",
       "      <td>0.047599</td>\n",
       "    </tr>\n",
       "    <tr>\n",
       "      <th>4</th>\n",
       "      <td>EM-1392324</td>\n",
       "      <td>cash</td>\n",
       "      <td>190000</td>\n",
       "      <td>633</td>\n",
       "      <td>35000</td>\n",
       "      <td>5455</td>\n",
       "      <td>5</td>\n",
       "      <td>1</td>\n",
       "      <td>2</td>\n",
       "      <td>4</td>\n",
       "      <td>4</td>\n",
       "      <td>4</td>\n",
       "      <td>1</td>\n",
       "      <td>1</td>\n",
       "      <td>1</td>\n",
       "      <td>1</td>\n",
       "      <td>5729</td>\n",
       "      <td>-1</td>\n",
       "      <td>-1</td>\n",
       "      <td>OTP</td>\n",
       "      <td>1</td>\n",
       "      <td>1</td>\n",
       "      <td>0</td>\n",
       "      <td>0</td>\n",
       "      <td>0</td>\n",
       "      <td>0.744719</td>\n",
       "    </tr>\n",
       "  </tbody>\n",
       "</table>\n",
       "</div>"
      ],
      "text/plain": [
       "  application_id product_grp  agr_lims  used_score  personal_income  payment  \\\n",
       "0     EM-1291754        cash     55000         687            38000     2500   \n",
       "1     EM-1381870        cash    218771         666            95000     6281   \n",
       "2     EM-1382144        cash    106233         671            50000     9340   \n",
       "3     EM-1382832        cash    130671         678            30000     3764   \n",
       "4     EM-1392324        cash    190000         633            35000     5455   \n",
       "\n",
       "   ltb  circle  paymax  cnt_all_apps_last7days  cnt_all_apps_last30days  \\\n",
       "0    5       5       4                       6                        6   \n",
       "1    5       5       3                       3                        3   \n",
       "2    5       5       3                      10                       10   \n",
       "3    5       5       3                       6                        6   \n",
       "4    5       1       2                       4                        4   \n",
       "\n",
       "   cnt_all_apps_last90days  cnt_refused_apps_last7days  \\\n",
       "0                        7                           0   \n",
       "1                        3                           0   \n",
       "2                       10                           4   \n",
       "3                        6                           0   \n",
       "4                        4                           1   \n",
       "\n",
       "   cnt_refused_apps_last30days  cnt_refused_apps_last90days  online_flg  \\\n",
       "0                            0                            0           1   \n",
       "1                            0                            0           1   \n",
       "2                            4                            4           1   \n",
       "3                            0                            0           1   \n",
       "4                            1                            1           1   \n",
       "\n",
       "   bureau_hist_due  appnumberofappslm  count_bureau_credits_less_730_days  \\\n",
       "0             4817                 -1                                  -1   \n",
       "1             3973                 -1                                  -1   \n",
       "2             3698                 -1                                  -1   \n",
       "3             4374                 -1                                  -1   \n",
       "4             5729                 -1                                  -1   \n",
       "\n",
       "  client_segment  target  rn  cnt_open_agr_7  cnt_open_agr_30  \\\n",
       "0            OTP       0   1               0                0   \n",
       "1            OTP       0   1               0                0   \n",
       "2            OTP       0   1               0                0   \n",
       "3            OTP       1   1               0                0   \n",
       "4            OTP       1   1               0                0   \n",
       "\n",
       "   cnt_open_agr_90  transf_prob  \n",
       "0                0     0.160092  \n",
       "1                0     0.061289  \n",
       "2                0     0.826771  \n",
       "3                0     0.047599  \n",
       "4                0     0.744719  "
      ]
     },
     "execution_count": 3,
     "metadata": {},
     "output_type": "execute_result"
    }
   ],
   "source": [
    "df = pd.read_csv('dataset_with_transf_prob.csv')\n",
    "df.head()"
   ]
  },
  {
   "cell_type": "code",
   "execution_count": 5,
   "id": "aaeb1e77-13e9-4be4-8572-cf6acc316bae",
   "metadata": {},
   "outputs": [],
   "source": [
    "df.columns = list(map(str.lower, df.columns))"
   ]
  },
  {
   "cell_type": "code",
   "execution_count": 6,
   "id": "fbc20d8b-d6ae-429e-be1e-b03d2dcc347b",
   "metadata": {},
   "outputs": [
    {
     "data": {
      "text/html": [
       "<div>\n",
       "<style scoped>\n",
       "    .dataframe tbody tr th:only-of-type {\n",
       "        vertical-align: middle;\n",
       "    }\n",
       "\n",
       "    .dataframe tbody tr th {\n",
       "        vertical-align: top;\n",
       "    }\n",
       "\n",
       "    .dataframe thead th {\n",
       "        text-align: right;\n",
       "    }\n",
       "</style>\n",
       "<table border=\"1\" class=\"dataframe\">\n",
       "  <thead>\n",
       "    <tr style=\"text-align: right;\">\n",
       "      <th></th>\n",
       "      <th>product_grp</th>\n",
       "      <th>agr_lims</th>\n",
       "      <th>used_score</th>\n",
       "      <th>personal_income</th>\n",
       "      <th>payment</th>\n",
       "      <th>ltb</th>\n",
       "      <th>circle</th>\n",
       "      <th>paymax</th>\n",
       "      <th>cnt_all_apps_last7days</th>\n",
       "      <th>cnt_all_apps_last30days</th>\n",
       "      <th>cnt_all_apps_last90days</th>\n",
       "      <th>cnt_refused_apps_last7days</th>\n",
       "      <th>cnt_refused_apps_last30days</th>\n",
       "      <th>cnt_refused_apps_last90days</th>\n",
       "      <th>online_flg</th>\n",
       "      <th>bureau_hist_due</th>\n",
       "      <th>appnumberofappslm</th>\n",
       "      <th>count_bureau_credits_less_730_days</th>\n",
       "      <th>client_segment</th>\n",
       "      <th>target</th>\n",
       "      <th>rn</th>\n",
       "      <th>cnt_open_agr_7</th>\n",
       "      <th>cnt_open_agr_30</th>\n",
       "      <th>cnt_open_agr_90</th>\n",
       "      <th>transf_prob</th>\n",
       "    </tr>\n",
       "    <tr>\n",
       "      <th>application_id</th>\n",
       "      <th></th>\n",
       "      <th></th>\n",
       "      <th></th>\n",
       "      <th></th>\n",
       "      <th></th>\n",
       "      <th></th>\n",
       "      <th></th>\n",
       "      <th></th>\n",
       "      <th></th>\n",
       "      <th></th>\n",
       "      <th></th>\n",
       "      <th></th>\n",
       "      <th></th>\n",
       "      <th></th>\n",
       "      <th></th>\n",
       "      <th></th>\n",
       "      <th></th>\n",
       "      <th></th>\n",
       "      <th></th>\n",
       "      <th></th>\n",
       "      <th></th>\n",
       "      <th></th>\n",
       "      <th></th>\n",
       "      <th></th>\n",
       "      <th></th>\n",
       "    </tr>\n",
       "  </thead>\n",
       "  <tbody>\n",
       "    <tr>\n",
       "      <th>EM-1291754</th>\n",
       "      <td>cash</td>\n",
       "      <td>55000</td>\n",
       "      <td>687</td>\n",
       "      <td>38000</td>\n",
       "      <td>2500</td>\n",
       "      <td>5</td>\n",
       "      <td>5</td>\n",
       "      <td>4</td>\n",
       "      <td>6</td>\n",
       "      <td>6</td>\n",
       "      <td>7</td>\n",
       "      <td>0</td>\n",
       "      <td>0</td>\n",
       "      <td>0</td>\n",
       "      <td>1</td>\n",
       "      <td>4817</td>\n",
       "      <td>-1</td>\n",
       "      <td>-1</td>\n",
       "      <td>OTP</td>\n",
       "      <td>0</td>\n",
       "      <td>1</td>\n",
       "      <td>0</td>\n",
       "      <td>0</td>\n",
       "      <td>0</td>\n",
       "      <td>0.160092</td>\n",
       "    </tr>\n",
       "    <tr>\n",
       "      <th>EM-1381870</th>\n",
       "      <td>cash</td>\n",
       "      <td>218771</td>\n",
       "      <td>666</td>\n",
       "      <td>95000</td>\n",
       "      <td>6281</td>\n",
       "      <td>5</td>\n",
       "      <td>5</td>\n",
       "      <td>3</td>\n",
       "      <td>3</td>\n",
       "      <td>3</td>\n",
       "      <td>3</td>\n",
       "      <td>0</td>\n",
       "      <td>0</td>\n",
       "      <td>0</td>\n",
       "      <td>1</td>\n",
       "      <td>3973</td>\n",
       "      <td>-1</td>\n",
       "      <td>-1</td>\n",
       "      <td>OTP</td>\n",
       "      <td>0</td>\n",
       "      <td>1</td>\n",
       "      <td>0</td>\n",
       "      <td>0</td>\n",
       "      <td>0</td>\n",
       "      <td>0.061289</td>\n",
       "    </tr>\n",
       "    <tr>\n",
       "      <th>EM-1382144</th>\n",
       "      <td>cash</td>\n",
       "      <td>106233</td>\n",
       "      <td>671</td>\n",
       "      <td>50000</td>\n",
       "      <td>9340</td>\n",
       "      <td>5</td>\n",
       "      <td>5</td>\n",
       "      <td>3</td>\n",
       "      <td>10</td>\n",
       "      <td>10</td>\n",
       "      <td>10</td>\n",
       "      <td>4</td>\n",
       "      <td>4</td>\n",
       "      <td>4</td>\n",
       "      <td>1</td>\n",
       "      <td>3698</td>\n",
       "      <td>-1</td>\n",
       "      <td>-1</td>\n",
       "      <td>OTP</td>\n",
       "      <td>0</td>\n",
       "      <td>1</td>\n",
       "      <td>0</td>\n",
       "      <td>0</td>\n",
       "      <td>0</td>\n",
       "      <td>0.826771</td>\n",
       "    </tr>\n",
       "    <tr>\n",
       "      <th>EM-1382832</th>\n",
       "      <td>cash</td>\n",
       "      <td>130671</td>\n",
       "      <td>678</td>\n",
       "      <td>30000</td>\n",
       "      <td>3764</td>\n",
       "      <td>5</td>\n",
       "      <td>5</td>\n",
       "      <td>3</td>\n",
       "      <td>6</td>\n",
       "      <td>6</td>\n",
       "      <td>6</td>\n",
       "      <td>0</td>\n",
       "      <td>0</td>\n",
       "      <td>0</td>\n",
       "      <td>1</td>\n",
       "      <td>4374</td>\n",
       "      <td>-1</td>\n",
       "      <td>-1</td>\n",
       "      <td>OTP</td>\n",
       "      <td>1</td>\n",
       "      <td>1</td>\n",
       "      <td>0</td>\n",
       "      <td>0</td>\n",
       "      <td>0</td>\n",
       "      <td>0.047599</td>\n",
       "    </tr>\n",
       "    <tr>\n",
       "      <th>EM-1392324</th>\n",
       "      <td>cash</td>\n",
       "      <td>190000</td>\n",
       "      <td>633</td>\n",
       "      <td>35000</td>\n",
       "      <td>5455</td>\n",
       "      <td>5</td>\n",
       "      <td>1</td>\n",
       "      <td>2</td>\n",
       "      <td>4</td>\n",
       "      <td>4</td>\n",
       "      <td>4</td>\n",
       "      <td>1</td>\n",
       "      <td>1</td>\n",
       "      <td>1</td>\n",
       "      <td>1</td>\n",
       "      <td>5729</td>\n",
       "      <td>-1</td>\n",
       "      <td>-1</td>\n",
       "      <td>OTP</td>\n",
       "      <td>1</td>\n",
       "      <td>1</td>\n",
       "      <td>0</td>\n",
       "      <td>0</td>\n",
       "      <td>0</td>\n",
       "      <td>0.744719</td>\n",
       "    </tr>\n",
       "  </tbody>\n",
       "</table>\n",
       "</div>"
      ],
      "text/plain": [
       "               product_grp  agr_lims  used_score  personal_income  payment  \\\n",
       "application_id                                                               \n",
       "EM-1291754            cash     55000         687            38000     2500   \n",
       "EM-1381870            cash    218771         666            95000     6281   \n",
       "EM-1382144            cash    106233         671            50000     9340   \n",
       "EM-1382832            cash    130671         678            30000     3764   \n",
       "EM-1392324            cash    190000         633            35000     5455   \n",
       "\n",
       "                ltb  circle  paymax  cnt_all_apps_last7days  \\\n",
       "application_id                                                \n",
       "EM-1291754        5       5       4                       6   \n",
       "EM-1381870        5       5       3                       3   \n",
       "EM-1382144        5       5       3                      10   \n",
       "EM-1382832        5       5       3                       6   \n",
       "EM-1392324        5       1       2                       4   \n",
       "\n",
       "                cnt_all_apps_last30days  cnt_all_apps_last90days  \\\n",
       "application_id                                                     \n",
       "EM-1291754                            6                        7   \n",
       "EM-1381870                            3                        3   \n",
       "EM-1382144                           10                       10   \n",
       "EM-1382832                            6                        6   \n",
       "EM-1392324                            4                        4   \n",
       "\n",
       "                cnt_refused_apps_last7days  cnt_refused_apps_last30days  \\\n",
       "application_id                                                            \n",
       "EM-1291754                               0                            0   \n",
       "EM-1381870                               0                            0   \n",
       "EM-1382144                               4                            4   \n",
       "EM-1382832                               0                            0   \n",
       "EM-1392324                               1                            1   \n",
       "\n",
       "                cnt_refused_apps_last90days  online_flg  bureau_hist_due  \\\n",
       "application_id                                                             \n",
       "EM-1291754                                0           1             4817   \n",
       "EM-1381870                                0           1             3973   \n",
       "EM-1382144                                4           1             3698   \n",
       "EM-1382832                                0           1             4374   \n",
       "EM-1392324                                1           1             5729   \n",
       "\n",
       "                appnumberofappslm  count_bureau_credits_less_730_days  \\\n",
       "application_id                                                          \n",
       "EM-1291754                     -1                                  -1   \n",
       "EM-1381870                     -1                                  -1   \n",
       "EM-1382144                     -1                                  -1   \n",
       "EM-1382832                     -1                                  -1   \n",
       "EM-1392324                     -1                                  -1   \n",
       "\n",
       "               client_segment  target  rn  cnt_open_agr_7  cnt_open_agr_30  \\\n",
       "application_id                                                               \n",
       "EM-1291754                OTP       0   1               0                0   \n",
       "EM-1381870                OTP       0   1               0                0   \n",
       "EM-1382144                OTP       0   1               0                0   \n",
       "EM-1382832                OTP       1   1               0                0   \n",
       "EM-1392324                OTP       1   1               0                0   \n",
       "\n",
       "                cnt_open_agr_90  transf_prob  \n",
       "application_id                                \n",
       "EM-1291754                    0     0.160092  \n",
       "EM-1381870                    0     0.061289  \n",
       "EM-1382144                    0     0.826771  \n",
       "EM-1382832                    0     0.047599  \n",
       "EM-1392324                    0     0.744719  "
      ]
     },
     "execution_count": 6,
     "metadata": {},
     "output_type": "execute_result"
    }
   ],
   "source": [
    "df = df.set_index('application_id')\n",
    "df.head()"
   ]
  },
  {
   "cell_type": "code",
   "execution_count": null,
   "id": "b5fd11f9-456f-4f8f-947f-b0485a7be802",
   "metadata": {},
   "outputs": [],
   "source": [
    "del df['paymax'], df['rn']"
   ]
  },
  {
   "cell_type": "code",
   "execution_count": 7,
   "id": "3c1cf571-a232-4535-8b1c-ec20915755b7",
   "metadata": {
    "id": "3c1cf571-a232-4535-8b1c-ec20915755b7"
   },
   "outputs": [],
   "source": [
    "y = df[['target']]\n",
    "X = df.drop(columns=['target'])"
   ]
  },
  {
   "cell_type": "markdown",
   "id": "5034ce17-d099-47ba-8884-6add3348ed17",
   "metadata": {
    "id": "5034ce17-d099-47ba-8884-6add3348ed17"
   },
   "source": [
    "### preparing dataset for Transformer model:"
   ]
  },
  {
   "cell_type": "code",
   "execution_count": 8,
   "id": "2b525c68-9407-44eb-a4aa-7ceb4021ab3e",
   "metadata": {
    "id": "2b525c68-9407-44eb-a4aa-7ceb4021ab3e"
   },
   "outputs": [],
   "source": [
    "X_cat = X.select_dtypes(include=['object'])\n",
    "\n",
    "X_cat = X_cat.apply(LabelEncoder().fit_transform)\n",
    "\n",
    "X_float = X.select_dtypes(include=['float'])\n",
    "X_int_float = X.select_dtypes(include=['int64']).astype(np.float32)\n",
    "X_float = pd.concat([X_float, X_int_float], axis=1)\n",
    "X_float = X_float.astype(np.float32)\n",
    "\n",
    "float_features_cnt = X_float.shape[1]\n",
    "cat_features_card = [X_cat[x].nunique() for x in X_cat.columns]\n",
    "\n",
    "y = y.astype('float')"
   ]
  },
  {
   "cell_type": "code",
   "execution_count": 9,
   "id": "01ec9b9e-0435-4421-bcc3-adbe95995e1e",
   "metadata": {
    "id": "01ec9b9e-0435-4421-bcc3-adbe95995e1e"
   },
   "outputs": [],
   "source": [
    "X_float = X_float.to_numpy()\n",
    "X_cat = X_cat.to_numpy()\n",
    "y = y.to_numpy()\n",
    "y = y[:, 0]"
   ]
  },
  {
   "cell_type": "code",
   "execution_count": 10,
   "id": "0a72dc68-149a-4b76-8f59-3c0a5d0dbb2b",
   "metadata": {
    "id": "0a72dc68-149a-4b76-8f59-3c0a5d0dbb2b"
   },
   "outputs": [],
   "source": [
    "idx = np.arange(len(y))\n",
    "train_val_idx, test_idx = sklearn.model_selection.train_test_split(\n",
    "    idx, train_size=0.8, random_state=1\n",
    ")\n",
    "train_idx, val_idx = sklearn.model_selection.train_test_split(\n",
    "    train_val_idx, train_size=0.8, random_state=1\n",
    ")"
   ]
  },
  {
   "cell_type": "code",
   "execution_count": 11,
   "id": "84cecc10-b4fa-4d3e-a9d1-3eb5af5d6e5c",
   "metadata": {
    "id": "84cecc10-b4fa-4d3e-a9d1-3eb5af5d6e5c"
   },
   "outputs": [],
   "source": [
    "data = {\n",
    "    'train' : {'x_float':X_float[train_idx], 'x_cat':X_cat[train_idx], 'y':y[train_idx]},\n",
    "    'val' : {'x_float':X_float[val_idx], 'x_cat':X_cat[val_idx], 'y':y[val_idx]},\n",
    "    'test' : {'x_float':X_float[test_idx], 'x_cat':X_cat[test_idx], 'y':y[test_idx]}\n",
    "}"
   ]
  },
  {
   "cell_type": "code",
   "execution_count": 12,
   "id": "3c7458b4-88d2-4817-8d58-479c2e1b1a4e",
   "metadata": {
    "id": "3c7458b4-88d2-4817-8d58-479c2e1b1a4e"
   },
   "outputs": [],
   "source": [
    "preprocessing = sklearn.preprocessing.StandardScaler().fit(data['train']['x_float'])\n",
    "\n",
    "for object in data:\n",
    "    data[object]['x_float'] = preprocessing.transform(data[object]['x_float'])"
   ]
  },
  {
   "cell_type": "code",
   "execution_count": 13,
   "id": "dcc40669-ae38-4fd6-9de7-0554b894823c",
   "metadata": {
    "id": "dcc40669-ae38-4fd6-9de7-0554b894823c"
   },
   "outputs": [],
   "source": [
    "tensors = {\n",
    "    object: {k: torch.as_tensor(v, device=device) for k, v in data[object].items()} for object in data\n",
    "}"
   ]
  },
  {
   "cell_type": "code",
   "execution_count": 14,
   "id": "16b9fde4-27b8-4761-8b26-ec358d57b655",
   "metadata": {
    "colab": {
     "base_uri": "https://localhost:8080/"
    },
    "executionInfo": {
     "elapsed": 3,
     "status": "ok",
     "timestamp": 1717879783585,
     "user": {
      "displayName": "Anastasiia Izotova",
      "userId": "15859688708138804818"
     },
     "user_tz": -180
    },
    "id": "16b9fde4-27b8-4761-8b26-ec358d57b655",
    "outputId": "9a58234f-9dfe-4cb5-b151-8e7f21355f3f"
   },
   "outputs": [
    {
     "data": {
      "text/plain": [
       "{'train': {'x_float': tensor([[ -0.8045,  -0.5096,  -0.0873,  ...,  -0.0689,  -0.1338,  -0.1899],\n",
       "          [  0.5592,  -0.4467,   1.0236,  ...,  -0.0689,  -0.1338,  -0.1899],\n",
       "          [ -0.7894,  -0.3767, -10.4708,  ...,  -0.0689,  -0.1338,  -0.1899],\n",
       "          ...,\n",
       "          [ -0.6488,  -0.2999,   1.0082,  ...,  -0.0689,  -0.1338,  -0.1899],\n",
       "          [  0.0850,   1.6896,  -0.2878,  ...,  -0.0689,  -0.1338,  -0.1899],\n",
       "          [ -0.9221,   0.3415,  -1.3524,  ...,  -0.0689,  -0.1338,  -0.1899]]),\n",
       "  'x_cat': tensor([[1, 0],\n",
       "          [1, 2],\n",
       "          [0, 2],\n",
       "          ...,\n",
       "          [1, 2],\n",
       "          [0, 2],\n",
       "          [1, 1]]),\n",
       "  'y': tensor([0., 0., 0.,  ..., 0., 0., 0.], dtype=torch.float64)},\n",
       " 'val': {'x_float': tensor([[-1.1590, -0.4735,  0.4990,  ..., -0.0689, -0.1338, -0.1899],\n",
       "          [-0.6036, -0.1906, -0.5347,  ..., -0.0689, -0.1338, -0.1899],\n",
       "          [-1.2120, -0.6474,  0.7459,  ..., -0.0689, -0.1338, -0.1899],\n",
       "          ...,\n",
       "          [ 0.9731, -0.0501,  0.9619,  ..., -0.0689, -0.1338, -0.1899],\n",
       "          [ 1.3046,  1.0316,  0.6687,  ..., -0.0689, -0.1338, -0.1899],\n",
       "          [-0.7401, -0.4835,  0.1133,  ..., -0.0689, -0.1338, -0.1899]]),\n",
       "  'x_cat': tensor([[1, 2],\n",
       "          [1, 0],\n",
       "          [1, 2],\n",
       "          ...,\n",
       "          [1, 1],\n",
       "          [1, 0],\n",
       "          [1, 2]]),\n",
       "  'y': tensor([0., 0., 0.,  ..., 0., 0., 0.], dtype=torch.float64)},\n",
       " 'test': {'x_float': tensor([[-1.0136,  0.6333,  0.4064,  ..., -0.0689, -0.1338, -0.1899],\n",
       "          [-1.2408, -0.0535, -0.4113,  ..., -0.0689, -0.1338, -0.1899],\n",
       "          [-1.1204,  1.1953,  1.0390,  ..., -0.0689, -0.1338, -0.1899],\n",
       "          ...,\n",
       "          [ 1.0740, -0.5195,  0.9310,  ..., -0.0689, -0.1338, -0.1899],\n",
       "          [-0.9036,  0.0931, -0.3033,  ..., -0.0689, -0.1338, -0.1899],\n",
       "          [-1.2111, -0.4763,  0.0824,  ..., -0.0689, -0.1338, -0.1899]]),\n",
       "  'x_cat': tensor([[1, 0],\n",
       "          [1, 3],\n",
       "          [1, 2],\n",
       "          ...,\n",
       "          [1, 0],\n",
       "          [0, 2],\n",
       "          [1, 3]]),\n",
       "  'y': tensor([0., 0., 0.,  ..., 0., 0., 0.], dtype=torch.float64)}}"
      ]
     },
     "execution_count": 14,
     "metadata": {},
     "output_type": "execute_result"
    }
   ],
   "source": [
    "tensors"
   ]
  },
  {
   "cell_type": "code",
   "execution_count": 15,
   "id": "7f1cf291-a1fe-4122-93e1-cfd3a2f93129",
   "metadata": {},
   "outputs": [
    {
     "data": {
      "text/plain": [
       "tensor(7910)"
      ]
     },
     "execution_count": 15,
     "metadata": {},
     "output_type": "execute_result"
    }
   ],
   "source": [
    "sum(sum([tensors['test']['y'].cpu()==1]))"
   ]
  },
  {
   "cell_type": "code",
   "execution_count": 16,
   "id": "01895b8b-07ce-4c92-a8db-5a15138d27a0",
   "metadata": {},
   "outputs": [
    {
     "data": {
      "text/plain": [
       "torch.Size([192000])"
      ]
     },
     "execution_count": 16,
     "metadata": {},
     "output_type": "execute_result"
    }
   ],
   "source": [
    "tensors['train']['y'].shape"
   ]
  },
  {
   "cell_type": "markdown",
   "id": "31e49ff8-7b8a-45f7-8a18-3aa18c6c1509",
   "metadata": {
    "id": "31e49ff8-7b8a-45f7-8a18-3aa18c6c1509"
   },
   "source": [
    "### Transformer model"
   ]
  },
  {
   "cell_type": "code",
   "execution_count": 17,
   "id": "d53a13a5-d697-43f3-a0fe-79d08e7ecb0f",
   "metadata": {
    "id": "d53a13a5-d697-43f3-a0fe-79d08e7ecb0f"
   },
   "outputs": [],
   "source": [
    "model = FTTransformer(\n",
    "    n_cont_features=float_features_cnt,\n",
    "    cat_cardinalities=cat_features_card,\n",
    "    d_out=1,\n",
    "    **FTTransformer.get_default_kwargs(),\n",
    ").to(device)\n",
    "optimizer = model.make_default_optimizer()"
   ]
  },
  {
   "cell_type": "code",
   "execution_count": 18,
   "id": "cce7279d-000a-4c55-ada9-d1fb26a3b3c1",
   "metadata": {
    "id": "cce7279d-000a-4c55-ada9-d1fb26a3b3c1"
   },
   "outputs": [],
   "source": [
    "def apply_model(batch):\n",
    "    return model(batch['x_float'], batch['x_cat']).squeeze(-1)"
   ]
  },
  {
   "cell_type": "code",
   "execution_count": 19,
   "id": "8d28026a-a230-42a4-a707-d39570841189",
   "metadata": {
    "id": "8d28026a-a230-42a4-a707-d39570841189"
   },
   "outputs": [],
   "source": [
    "pos_weight = 5 # = 10 if name == 'fraud' else 4\n",
    "loss_func = nn.BCEWithLogitsLoss(pos_weight = torch.tensor(pos_weight))"
   ]
  },
  {
   "cell_type": "code",
   "execution_count": 20,
   "id": "573ef44a-805d-429b-af67-65cca121ce61",
   "metadata": {
    "id": "573ef44a-805d-429b-af67-65cca121ce61"
   },
   "outputs": [],
   "source": [
    "def evaluate(part, eval_batch_size):\n",
    "    model.eval()\n",
    "    with torch.inference_mode():\n",
    "        y_pred = (\n",
    "            torch.cat(\n",
    "                [\n",
    "                    apply_model(batch) for batch in delu.iter_batches(tensors[part], eval_batch_size)\n",
    "                ]\n",
    "            )\n",
    "            .cpu()\n",
    "        )\n",
    "        y_true = tensors[part]['y'].cpu().numpy()\n",
    "\n",
    "        y_pred = torch.sigmoid(y_pred).numpy()\n",
    "        test_y_pred = y_pred\n",
    "        y_pred = np.where(y_pred>=0.85, 1, 0)\n",
    "        #1 if y_pred>=0.5 else 0\n",
    "        #score = sklearn.metrics.accuracy_score(y_true, y_pred)\n",
    "        score = sklearn.metrics.roc_auc_score(y_true, test_y_pred)\n",
    "        precision = sklearn.metrics.precision_score(y_true, y_pred)\n",
    "        recall = sklearn.metrics.recall_score(y_true, y_pred)\n",
    "    return score, precision, recall, test_y_pred"
   ]
  },
  {
   "cell_type": "code",
   "execution_count": 21,
   "id": "910b76ff-6e5b-40a9-8c2f-c32daa999f62",
   "metadata": {
    "colab": {
     "base_uri": "https://localhost:8080/"
    },
    "collapsed": true,
    "executionInfo": {
     "elapsed": 430937,
     "status": "ok",
     "timestamp": 1717883149178,
     "user": {
      "displayName": "Anastasiia Izotova",
      "userId": "15859688708138804818"
     },
     "user_tz": -180
    },
    "id": "910b76ff-6e5b-40a9-8c2f-c32daa999f62",
    "jupyter": {
     "outputs_hidden": true
    },
    "outputId": "30a1120e-003d-4c70-8730-40912c7044ae",
    "tags": []
   },
   "outputs": [
    {
     "name": "stdout",
     "output_type": "stream",
     "text": [
      "Device: cpu\n",
      "----------------------------------------------------------------------------------------\n",
      "\n"
     ]
    },
    {
     "name": "stderr",
     "output_type": "stream",
     "text": [
      "Epoch 0: 100%|██████████| 375/375 [04:01<00:00,  1.55it/s]\n"
     ]
    },
    {
     "name": "stdout",
     "output_type": "stream",
     "text": [
      "Rocauc: (val) 0.7863 [time] 0:04:17.758283\n",
      "Precision: (val) 0.7100 [time] 0:04:17.758561\n",
      "Recall: (val) 0.0800 [time] 0:04:17.758577\n",
      "\n"
     ]
    },
    {
     "name": "stderr",
     "output_type": "stream",
     "text": [
      "Epoch 1: 100%|██████████| 375/375 [04:02<00:00,  1.55it/s]\n"
     ]
    },
    {
     "name": "stdout",
     "output_type": "stream",
     "text": [
      "Rocauc: (val) 0.7907 [time] 0:08:35.773970\n",
      "Precision: (val) 0.7113 [time] 0:08:35.774916\n",
      "Recall: (val) 0.0915 [time] 0:08:35.774945\n",
      "\n"
     ]
    },
    {
     "name": "stderr",
     "output_type": "stream",
     "text": [
      "Epoch 2: 100%|██████████| 375/375 [04:02<00:00,  1.54it/s]\n"
     ]
    },
    {
     "name": "stdout",
     "output_type": "stream",
     "text": [
      "Rocauc: (val) 0.7930 [time] 0:12:54.158863\n",
      "Precision: (val) 0.7431 [time] 0:12:54.159174\n",
      "Recall: (val) 0.0821 [time] 0:12:54.159190\n",
      "\n"
     ]
    },
    {
     "name": "stderr",
     "output_type": "stream",
     "text": [
      "Epoch 3: 100%|██████████| 375/375 [04:02<00:00,  1.55it/s]\n"
     ]
    },
    {
     "name": "stdout",
     "output_type": "stream",
     "text": [
      "Rocauc: (val) 0.7968 [time] 0:17:12.674287\n",
      "Precision: (val) 0.5927 [time] 0:17:12.674927\n",
      "Recall: (val) 0.1707 [time] 0:17:12.674959\n",
      "\n"
     ]
    },
    {
     "name": "stderr",
     "output_type": "stream",
     "text": [
      "Epoch 4: 100%|██████████| 375/375 [03:59<00:00,  1.57it/s]\n"
     ]
    },
    {
     "name": "stdout",
     "output_type": "stream",
     "text": [
      "Rocauc: (val) 0.7992 [time] 0:21:28.260684\n",
      "Precision: (val) 0.7485 [time] 0:21:28.261018\n",
      "Recall: (val) 0.0806 [time] 0:21:28.261034\n",
      "\n"
     ]
    },
    {
     "name": "stderr",
     "output_type": "stream",
     "text": [
      "Epoch 5: 100%|██████████| 375/375 [03:58<00:00,  1.57it/s]\n"
     ]
    },
    {
     "name": "stdout",
     "output_type": "stream",
     "text": [
      "Rocauc: (val) 0.7987 [time] 0:25:42.162529\n",
      "Precision: (val) 0.7314 [time] 0:25:42.162817\n",
      "Recall: (val) 0.0907 [time] 0:25:42.162832\n",
      "\n"
     ]
    },
    {
     "name": "stderr",
     "output_type": "stream",
     "text": [
      "Epoch 6: 100%|██████████| 375/375 [04:01<00:00,  1.55it/s]\n"
     ]
    },
    {
     "name": "stdout",
     "output_type": "stream",
     "text": [
      "Rocauc: (val) 0.7998 [time] 0:29:59.459237\n",
      "Precision: (val) 0.6867 [time] 0:29:59.459626\n",
      "Recall: (val) 0.1275 [time] 0:29:59.459641\n",
      "\n"
     ]
    },
    {
     "name": "stderr",
     "output_type": "stream",
     "text": [
      "Epoch 7: 100%|██████████| 375/375 [04:01<00:00,  1.55it/s]\n"
     ]
    },
    {
     "name": "stdout",
     "output_type": "stream",
     "text": [
      "Rocauc: (val) 0.8028 [time] 0:34:17.178270\n",
      "Precision: (val) 0.6584 [time] 0:34:17.178577\n",
      "Recall: (val) 0.1355 [time] 0:34:17.178592\n",
      "\n"
     ]
    },
    {
     "name": "stderr",
     "output_type": "stream",
     "text": [
      "Epoch 8: 100%|██████████| 375/375 [03:57<00:00,  1.58it/s]\n"
     ]
    },
    {
     "name": "stdout",
     "output_type": "stream",
     "text": [
      "Rocauc: (val) 0.8040 [time] 0:38:30.839978\n",
      "Precision: (val) 0.7062 [time] 0:38:30.840361\n",
      "Recall: (val) 0.1195 [time] 0:38:30.840377\n",
      "\n"
     ]
    },
    {
     "name": "stderr",
     "output_type": "stream",
     "text": [
      "Epoch 9: 100%|██████████| 375/375 [04:00<00:00,  1.56it/s]\n"
     ]
    },
    {
     "name": "stdout",
     "output_type": "stream",
     "text": [
      "Rocauc: (val) 0.8048 [time] 0:42:47.763858\n",
      "Precision: (val) 0.6415 [time] 0:42:47.764376\n",
      "Recall: (val) 0.1600 [time] 0:42:47.764393\n",
      "\n"
     ]
    },
    {
     "name": "stderr",
     "output_type": "stream",
     "text": [
      "Epoch 10: 100%|██████████| 375/375 [04:00<00:00,  1.56it/s]\n"
     ]
    },
    {
     "name": "stdout",
     "output_type": "stream",
     "text": [
      "Rocauc: (val) 0.8060 [time] 0:47:03.875879\n",
      "Precision: (val) 0.6834 [time] 0:47:03.876185\n",
      "Recall: (val) 0.1369 [time] 0:47:03.876201\n",
      "\n"
     ]
    },
    {
     "name": "stderr",
     "output_type": "stream",
     "text": [
      "Epoch 11: 100%|██████████| 375/375 [04:01<00:00,  1.55it/s]\n"
     ]
    },
    {
     "name": "stdout",
     "output_type": "stream",
     "text": [
      "Rocauc: (val) 0.8094 [time] 0:51:21.068707\n",
      "Precision: (val) 0.6836 [time] 0:51:21.069005\n",
      "Recall: (val) 0.1460 [time] 0:51:21.069020\n",
      "\n"
     ]
    },
    {
     "name": "stderr",
     "output_type": "stream",
     "text": [
      "Epoch 12: 100%|██████████| 375/375 [04:00<00:00,  1.56it/s]\n"
     ]
    },
    {
     "name": "stdout",
     "output_type": "stream",
     "text": [
      "Rocauc: (val) 0.8087 [time] 0:55:37.659562\n",
      "Precision: (val) 0.6493 [time] 0:55:37.659890\n",
      "Recall: (val) 0.1705 [time] 0:55:37.659913\n",
      "\n"
     ]
    },
    {
     "name": "stderr",
     "output_type": "stream",
     "text": [
      "Epoch 13: 100%|██████████| 375/375 [04:00<00:00,  1.56it/s]\n"
     ]
    },
    {
     "name": "stdout",
     "output_type": "stream",
     "text": [
      "Rocauc: (val) 0.8095 [time] 0:59:54.557207\n",
      "Precision: (val) 0.6527 [time] 0:59:54.557549\n",
      "Recall: (val) 0.1689 [time] 0:59:54.557565\n",
      "\n"
     ]
    },
    {
     "name": "stderr",
     "output_type": "stream",
     "text": [
      "Epoch 14: 100%|██████████| 375/375 [03:56<00:00,  1.59it/s]\n"
     ]
    },
    {
     "name": "stdout",
     "output_type": "stream",
     "text": [
      "Rocauc: (val) 0.8058 [time] 1:04:07.256483\n",
      "Precision: (val) 0.6467 [time] 1:04:07.256848\n",
      "Recall: (val) 0.1739 [time] 1:04:07.256866\n",
      "\n"
     ]
    },
    {
     "name": "stderr",
     "output_type": "stream",
     "text": [
      "Epoch 15: 100%|██████████| 375/375 [03:58<00:00,  1.57it/s]\n"
     ]
    },
    {
     "name": "stdout",
     "output_type": "stream",
     "text": [
      "Rocauc: (val) 0.8089 [time] 1:08:21.472509\n",
      "Precision: (val) 0.6259 [time] 1:08:21.472778\n",
      "Recall: (val) 0.1869 [time] 1:08:21.472799\n",
      "\n"
     ]
    },
    {
     "name": "stderr",
     "output_type": "stream",
     "text": [
      "Epoch 16: 100%|██████████| 375/375 [03:56<00:00,  1.58it/s]\n"
     ]
    },
    {
     "name": "stdout",
     "output_type": "stream",
     "text": [
      "Rocauc: (val) 0.8094 [time] 1:12:33.867112\n",
      "Precision: (val) 0.6588 [time] 1:12:33.867512\n",
      "Recall: (val) 0.1646 [time] 1:12:33.867536\n",
      "\n"
     ]
    },
    {
     "name": "stderr",
     "output_type": "stream",
     "text": [
      "Epoch 17: 100%|██████████| 375/375 [03:52<00:00,  1.61it/s]\n"
     ]
    },
    {
     "name": "stdout",
     "output_type": "stream",
     "text": [
      "Rocauc: (val) 0.8119 [time] 1:16:41.773457\n",
      "Precision: (val) 0.6689 [time] 1:16:41.773725\n",
      "Recall: (val) 0.1723 [time] 1:16:41.773739\n",
      "\n"
     ]
    },
    {
     "name": "stderr",
     "output_type": "stream",
     "text": [
      "Epoch 18: 100%|██████████| 375/375 [03:47<00:00,  1.65it/s]\n"
     ]
    },
    {
     "name": "stdout",
     "output_type": "stream",
     "text": [
      "Rocauc: (val) 0.8089 [time] 1:20:45.261809\n",
      "Precision: (val) 0.6633 [time] 1:20:45.262103\n",
      "Recall: (val) 0.1696 [time] 1:20:45.262118\n",
      "\n"
     ]
    },
    {
     "name": "stderr",
     "output_type": "stream",
     "text": [
      "Epoch 19: 100%|██████████| 375/375 [03:46<00:00,  1.65it/s]\n"
     ]
    },
    {
     "name": "stdout",
     "output_type": "stream",
     "text": [
      "Rocauc: (val) 0.8098 [time] 1:24:47.464478\n",
      "Precision: (val) 0.6715 [time] 1:24:47.464800\n",
      "Recall: (val) 0.1691 [time] 1:24:47.464814\n",
      "\n"
     ]
    },
    {
     "name": "stderr",
     "output_type": "stream",
     "text": [
      "Epoch 20: 100%|██████████| 375/375 [03:47<00:00,  1.65it/s]\n"
     ]
    },
    {
     "name": "stdout",
     "output_type": "stream",
     "text": [
      "Rocauc: (val) 0.8106 [time] 1:28:49.375419\n",
      "Precision: (val) 0.7207 [time] 1:28:49.375752\n",
      "Recall: (val) 0.1275 [time] 1:28:49.375768\n",
      "\n"
     ]
    },
    {
     "name": "stderr",
     "output_type": "stream",
     "text": [
      "Epoch 21: 100%|██████████| 375/375 [03:44<00:00,  1.67it/s]\n"
     ]
    },
    {
     "name": "stdout",
     "output_type": "stream",
     "text": [
      "Rocauc: (val) 0.8077 [time] 1:32:49.395164\n",
      "Precision: (val) 0.6113 [time] 1:32:49.395480\n",
      "Recall: (val) 0.1970 [time] 1:32:49.395497\n",
      "\n"
     ]
    },
    {
     "name": "stderr",
     "output_type": "stream",
     "text": [
      "Epoch 22: 100%|██████████| 375/375 [03:44<00:00,  1.67it/s]\n"
     ]
    },
    {
     "name": "stdout",
     "output_type": "stream",
     "text": [
      "Rocauc: (val) 0.8104 [time] 1:36:49.062762\n",
      "Precision: (val) 0.6767 [time] 1:36:49.063093\n",
      "Recall: (val) 0.1578 [time] 1:36:49.063111\n",
      "\n"
     ]
    },
    {
     "name": "stderr",
     "output_type": "stream",
     "text": [
      "Epoch 23: 100%|██████████| 375/375 [03:45<00:00,  1.66it/s]\n"
     ]
    },
    {
     "name": "stdout",
     "output_type": "stream",
     "text": [
      "Rocauc: (val) 0.8091 [time] 1:40:49.384715\n",
      "Precision: (val) 0.6921 [time] 1:40:49.385382\n",
      "Recall: (val) 0.1501 [time] 1:40:49.385399\n",
      "\n"
     ]
    },
    {
     "name": "stderr",
     "output_type": "stream",
     "text": [
      "Epoch 24: 100%|██████████| 375/375 [10:15<00:00,  1.64s/it]\n"
     ]
    },
    {
     "name": "stdout",
     "output_type": "stream",
     "text": [
      "Rocauc: (val) 0.8101 [time] 1:52:14.871787\n",
      "Precision: (val) 0.6471 [time] 1:52:14.872205\n",
      "Recall: (val) 0.1882 [time] 1:52:14.872230\n",
      "\n"
     ]
    },
    {
     "name": "stderr",
     "output_type": "stream",
     "text": [
      "Epoch 25: 100%|██████████| 375/375 [14:06<00:00,  2.26s/it]\n"
     ]
    },
    {
     "name": "stdout",
     "output_type": "stream",
     "text": [
      "Rocauc: (val) 0.8096 [time] 2:07:31.670335\n",
      "Precision: (val) 0.6735 [time] 2:07:31.671582\n",
      "Recall: (val) 0.1565 [time] 2:07:31.671600\n",
      "\n"
     ]
    },
    {
     "name": "stderr",
     "output_type": "stream",
     "text": [
      "Epoch 26: 100%|██████████| 375/375 [13:57<00:00,  2.23s/it]\n"
     ]
    },
    {
     "name": "stdout",
     "output_type": "stream",
     "text": [
      "Rocauc: (val) 0.8105 [time] 2:22:41.865349\n",
      "Precision: (val) 0.6656 [time] 2:22:41.865639\n",
      "Recall: (val) 0.1681 [time] 2:22:41.865656\n",
      "\n"
     ]
    },
    {
     "name": "stderr",
     "output_type": "stream",
     "text": [
      "Epoch 27: 100%|██████████| 375/375 [14:19<00:00,  2.29s/it]\n"
     ]
    },
    {
     "name": "stdout",
     "output_type": "stream",
     "text": [
      "Rocauc: (val) 0.8113 [time] 2:38:10.066497\n",
      "Precision: (val) 0.6690 [time] 2:38:10.066790\n",
      "Recall: (val) 0.1688 [time] 2:38:10.066804\n",
      "\n"
     ]
    },
    {
     "name": "stderr",
     "output_type": "stream",
     "text": [
      "Epoch 28: 100%|██████████| 375/375 [14:00<00:00,  2.24s/it]\n"
     ]
    },
    {
     "name": "stdout",
     "output_type": "stream",
     "text": [
      "Rocauc: (val) 0.8098 [time] 2:53:16.160791\n",
      "Precision: (val) 0.6824 [time] 2:53:16.161091\n",
      "Recall: (val) 0.1664 [time] 2:53:16.161107\n",
      "\n"
     ]
    },
    {
     "name": "stderr",
     "output_type": "stream",
     "text": [
      "Epoch 29: 100%|██████████| 375/375 [14:22<00:00,  2.30s/it]\n"
     ]
    },
    {
     "name": "stdout",
     "output_type": "stream",
     "text": [
      "Rocauc: (val) 0.8107 [time] 3:08:47.761485\n",
      "Precision: (val) 0.6338 [time] 3:08:47.761752\n",
      "Recall: (val) 0.1978 [time] 3:08:47.761782\n",
      "\n"
     ]
    },
    {
     "name": "stderr",
     "output_type": "stream",
     "text": [
      "Epoch 30: 100%|██████████| 375/375 [28:37<00:00,  4.58s/it]  \n"
     ]
    },
    {
     "name": "stdout",
     "output_type": "stream",
     "text": [
      "Rocauc: (val) 0.8110 [time] 3:38:33.859433\n",
      "Precision: (val) 0.6422 [time] 3:38:33.859710\n",
      "Recall: (val) 0.1965 [time] 3:38:33.859724\n",
      "\n"
     ]
    },
    {
     "name": "stderr",
     "output_type": "stream",
     "text": [
      "Epoch 31: 100%|██████████| 375/375 [14:17<00:00,  2.29s/it]\n"
     ]
    },
    {
     "name": "stdout",
     "output_type": "stream",
     "text": [
      "Rocauc: (val) 0.8063 [time] 3:53:59.660681\n",
      "Precision: (val) 0.6933 [time] 3:53:59.660999\n",
      "Recall: (val) 0.1423 [time] 3:53:59.661014\n",
      "\n"
     ]
    },
    {
     "name": "stderr",
     "output_type": "stream",
     "text": [
      "Epoch 32: 100%|██████████| 375/375 [14:07<00:00,  2.26s/it]\n"
     ]
    },
    {
     "name": "stdout",
     "output_type": "stream",
     "text": [
      "Rocauc: (val) 0.8081 [time] 4:09:17.272567\n",
      "Precision: (val) 0.6579 [time] 4:09:17.272906\n",
      "Recall: (val) 0.1750 [time] 4:09:17.272922\n",
      "\n"
     ]
    },
    {
     "name": "stderr",
     "output_type": "stream",
     "text": [
      "Epoch 33: 100%|██████████| 375/375 [14:33<00:00,  2.33s/it]\n"
     ]
    },
    {
     "name": "stdout",
     "output_type": "stream",
     "text": [
      "Rocauc: (val) 0.8065 [time] 4:25:02.360265\n",
      "Precision: (val) 0.6724 [time] 4:25:02.360548\n",
      "Recall: (val) 0.1570 [time] 4:25:02.360563\n",
      "\n"
     ]
    },
    {
     "name": "stderr",
     "output_type": "stream",
     "text": [
      "Epoch 34: 100%|██████████| 375/375 [14:39<00:00,  2.34s/it]\n"
     ]
    },
    {
     "name": "stdout",
     "output_type": "stream",
     "text": [
      "Rocauc: (val) 0.8105 [time] 4:40:54.861120\n",
      "Precision: (val) 0.6415 [time] 4:40:54.861480\n",
      "Recall: (val) 0.1871 [time] 4:40:54.861503\n",
      "\n"
     ]
    },
    {
     "name": "stderr",
     "output_type": "stream",
     "text": [
      "Epoch 35: 100%|██████████| 375/375 [14:33<00:00,  2.33s/it]\n"
     ]
    },
    {
     "name": "stdout",
     "output_type": "stream",
     "text": [
      "Rocauc: (val) 0.8068 [time] 4:56:39.171645\n",
      "Precision: (val) 0.6625 [time] 4:56:39.172023\n",
      "Recall: (val) 0.1777 [time] 4:56:39.172039\n",
      "\n"
     ]
    },
    {
     "name": "stderr",
     "output_type": "stream",
     "text": [
      "Epoch 36: 100%|██████████| 375/375 [14:34<00:00,  2.33s/it]\n"
     ]
    },
    {
     "name": "stdout",
     "output_type": "stream",
     "text": [
      "Rocauc: (val) 0.8073 [time] 5:12:25.066912\n",
      "Precision: (val) 0.6393 [time] 5:12:25.067192\n",
      "Recall: (val) 0.1847 [time] 5:12:25.067207\n",
      "\n"
     ]
    },
    {
     "name": "stderr",
     "output_type": "stream",
     "text": [
      "Epoch 37: 100%|██████████| 375/375 [14:08<00:00,  2.26s/it]\n"
     ]
    },
    {
     "name": "stdout",
     "output_type": "stream",
     "text": [
      "Rocauc: (val) 0.8074 [time] 5:27:41.322790\n",
      "Precision: (val) 0.7028 [time] 5:27:41.323105\n",
      "Recall: (val) 0.1353 [time] 5:27:41.323123\n",
      "\n"
     ]
    },
    {
     "name": "stderr",
     "output_type": "stream",
     "text": [
      "Epoch 38: 100%|██████████| 375/375 [13:59<00:00,  2.24s/it]\n"
     ]
    },
    {
     "name": "stdout",
     "output_type": "stream",
     "text": [
      "Rocauc: (val) 0.8058 [time] 5:42:48.560992\n",
      "Precision: (val) 0.6702 [time] 5:42:48.561250\n",
      "Recall: (val) 0.1606 [time] 5:42:48.561265\n",
      "\n"
     ]
    },
    {
     "name": "stderr",
     "output_type": "stream",
     "text": [
      "Epoch 39: 100%|██████████| 375/375 [14:01<00:00,  2.24s/it]\n"
     ]
    },
    {
     "name": "stdout",
     "output_type": "stream",
     "text": [
      "Rocauc: (val) 0.8089 [time] 5:57:59.266049\n",
      "Precision: (val) 0.6390 [time] 5:57:59.266326\n",
      "Recall: (val) 0.1887 [time] 5:57:59.266341\n",
      "\n"
     ]
    },
    {
     "name": "stderr",
     "output_type": "stream",
     "text": [
      "Epoch 40: 100%|██████████| 375/375 [14:50<00:00,  2.37s/it]\n"
     ]
    },
    {
     "name": "stdout",
     "output_type": "stream",
     "text": [
      "Rocauc: (val) 0.8079 [time] 6:14:00.268545\n",
      "Precision: (val) 0.6912 [time] 6:14:00.268815\n",
      "Recall: (val) 0.1573 [time] 6:14:00.268830\n",
      "\n"
     ]
    },
    {
     "name": "stderr",
     "output_type": "stream",
     "text": [
      "Epoch 41: 100%|██████████| 375/375 [14:18<00:00,  2.29s/it]\n"
     ]
    },
    {
     "name": "stdout",
     "output_type": "stream",
     "text": [
      "Rocauc: (val) 0.8060 [time] 6:29:30.654853\n",
      "Precision: (val) 0.6798 [time] 6:29:30.655148\n",
      "Recall: (val) 0.1618 [time] 6:29:30.655163\n",
      "\n"
     ]
    },
    {
     "name": "stderr",
     "output_type": "stream",
     "text": [
      "Epoch 42: 100%|██████████| 375/375 [14:15<00:00,  2.28s/it]\n"
     ]
    },
    {
     "name": "stdout",
     "output_type": "stream",
     "text": [
      "Rocauc: (val) 0.8074 [time] 6:44:56.361171\n",
      "Precision: (val) 0.6263 [time] 6:44:56.361492\n",
      "Recall: (val) 0.2070 [time] 6:44:56.361507\n",
      "\n"
     ]
    },
    {
     "name": "stderr",
     "output_type": "stream",
     "text": [
      "Epoch 43: 100%|██████████| 375/375 [14:11<00:00,  2.27s/it]\n"
     ]
    },
    {
     "name": "stdout",
     "output_type": "stream",
     "text": [
      "Rocauc: (val) 0.8060 [time] 7:00:19.562053\n",
      "Precision: (val) 0.6324 [time] 7:00:19.562335\n",
      "Recall: (val) 0.1922 [time] 7:00:19.562356\n",
      "\n"
     ]
    },
    {
     "name": "stderr",
     "output_type": "stream",
     "text": [
      "Epoch 44: 100%|██████████| 375/375 [14:22<00:00,  2.30s/it]\n"
     ]
    },
    {
     "name": "stdout",
     "output_type": "stream",
     "text": [
      "Rocauc: (val) 0.8079 [time] 7:15:51.163187\n",
      "Precision: (val) 0.6407 [time] 7:15:51.163447\n",
      "Recall: (val) 0.1981 [time] 7:15:51.163462\n",
      "\n"
     ]
    },
    {
     "name": "stderr",
     "output_type": "stream",
     "text": [
      "Epoch 45: 100%|██████████| 375/375 [14:20<00:00,  2.30s/it]\n"
     ]
    },
    {
     "name": "stdout",
     "output_type": "stream",
     "text": [
      "Rocauc: (val) 0.8087 [time] 7:31:16.457922\n",
      "Precision: (val) 0.6471 [time] 7:31:16.458272\n",
      "Recall: (val) 0.1911 [time] 7:31:16.458288\n",
      "\n"
     ]
    },
    {
     "name": "stderr",
     "output_type": "stream",
     "text": [
      "Epoch 46: 100%|██████████| 375/375 [14:15<00:00,  2.28s/it]\n"
     ]
    },
    {
     "name": "stdout",
     "output_type": "stream",
     "text": [
      "Rocauc: (val) 0.8060 [time] 7:46:38.768929\n",
      "Precision: (val) 0.6499 [time] 7:46:38.769222\n",
      "Recall: (val) 0.1793 [time] 7:46:38.769236\n",
      "\n"
     ]
    },
    {
     "name": "stderr",
     "output_type": "stream",
     "text": [
      "Epoch 47: 100%|██████████| 375/375 [14:04<00:00,  2.25s/it]\n"
     ]
    },
    {
     "name": "stdout",
     "output_type": "stream",
     "text": [
      "Rocauc: (val) 0.8031 [time] 8:01:56.284205\n",
      "Precision: (val) 0.6661 [time] 8:01:56.284488\n",
      "Recall: (val) 0.1767 [time] 8:01:56.284503\n",
      "\n"
     ]
    },
    {
     "name": "stderr",
     "output_type": "stream",
     "text": [
      "Epoch 48: 100%|██████████| 375/375 [13:47<00:00,  2.21s/it]\n"
     ]
    },
    {
     "name": "stdout",
     "output_type": "stream",
     "text": [
      "Rocauc: (val) 0.8042 [time] 8:16:53.961584\n",
      "Precision: (val) 0.6727 [time] 8:16:53.961851\n",
      "Recall: (val) 0.1648 [time] 8:16:53.961866\n",
      "\n"
     ]
    },
    {
     "name": "stderr",
     "output_type": "stream",
     "text": [
      "Epoch 49: 100%|██████████| 375/375 [14:04<00:00,  2.25s/it]\n"
     ]
    },
    {
     "name": "stdout",
     "output_type": "stream",
     "text": [
      "Rocauc: (val) 0.8047 [time] 8:32:09.676193\n",
      "Precision: (val) 0.6393 [time] 8:32:09.676457\n",
      "Recall: (val) 0.1927 [time] 8:32:09.676472\n",
      "\n"
     ]
    }
   ],
   "source": [
    "n_epochs = 50\n",
    "patience = 100\n",
    "\n",
    "eval_batch_size = 512\n",
    "batch_size = 512\n",
    "epoch_size = math.ceil(len(train_idx) / batch_size)\n",
    "timer = delu.tools.Timer()\n",
    "early_stopping = delu.tools.EarlyStopping(patience, mode='max')\n",
    "\n",
    "print(f\"Device: {device}\")\n",
    "print(\"-\" * 88 + \"\\n\")\n",
    "timer.run()\n",
    "for epoch in range(n_epochs):\n",
    "    for batch in tqdm(\n",
    "        delu.iter_batches(tensors['train'], batch_size, shuffle=True),\n",
    "        desc=f\"Epoch {epoch}\",\n",
    "        total=epoch_size,\n",
    "    ):\n",
    "        model.train()\n",
    "        optimizer.zero_grad()\n",
    "        loss = loss_func(apply_model(batch), batch['y'])\n",
    "        loss.backward()\n",
    "        optimizer.step()\n",
    "\n",
    "    val_score, val_precision, val_recall, prob_val = evaluate('val', eval_batch_size)\n",
    "    print(f\"Rocauc: (val) {val_score:.4f} [time] {timer}\")\n",
    "    print(f\"Precision: (val) {val_precision:.4f} [time] {timer}\")\n",
    "    print(f\"Recall: (val) {val_recall:.4f} [time] {timer}\")\n",
    "\n",
    "    early_stopping.update(val_score)\n",
    "    if early_stopping.should_stop():\n",
    "        break\n",
    "\n",
    "    print()"
   ]
  },
  {
   "cell_type": "code",
   "execution_count": 22,
   "id": "8acfc1b5-b0aa-4e94-9232-06109e970430",
   "metadata": {
    "colab": {
     "base_uri": "https://localhost:8080/"
    },
    "executionInfo": {
     "elapsed": 621,
     "status": "ok",
     "timestamp": 1717883149789,
     "user": {
      "displayName": "Anastasiia Izotova",
      "userId": "15859688708138804818"
     },
     "user_tz": -180
    },
    "id": "8acfc1b5-b0aa-4e94-9232-06109e970430",
    "outputId": "e2229cec-fc72-4779-e2e6-f6feb57beca3"
   },
   "outputs": [
    {
     "name": "stdout",
     "output_type": "stream",
     "text": [
      "Rocauc: (test) 0.8061\n",
      "Precision: (test) 0.6400\n",
      "Recall: (test) 0.1989\n",
      "[0.139012   0.7236898  0.92695594 ... 0.86959255 0.21760282 0.8434043 ]\n",
      "tensor([1., 1., 1.,  ..., 1., 1., 1.], dtype=torch.float64)\n"
     ]
    }
   ],
   "source": [
    "test_score, test_precision, test_recall, prob_test= evaluate('test', eval_batch_size)\n",
    "print(f\"Rocauc: (test) {test_score:.4f}\")\n",
    "print(f\"Precision: (test) {test_precision:.4f}\")\n",
    "print(f\"Recall: (test) {test_recall:.4f}\")\n",
    "print(prob_test[tensors['test']['y'].cpu()==1])\n",
    "print(tensors['test']['y'][(tensors['test']['y']==1)])"
   ]
  },
  {
   "cell_type": "code",
   "execution_count": 23,
   "id": "5d643a52-54d8-4ecd-9fd5-622d2bbe6a1e",
   "metadata": {
    "colab": {
     "base_uri": "https://localhost:8080/"
    },
    "executionInfo": {
     "elapsed": 473,
     "status": "ok",
     "timestamp": 1717883308866,
     "user": {
      "displayName": "Anastasiia Izotova",
      "userId": "15859688708138804818"
     },
     "user_tz": -180
    },
    "id": "5d643a52-54d8-4ecd-9fd5-622d2bbe6a1e",
    "outputId": "bea44560-b0c6-4863-a9ee-6614a84b9746"
   },
   "outputs": [
    {
     "data": {
      "text/plain": [
       "array([[51205,   885],\n",
       "       [ 6337,  1573]])"
      ]
     },
     "execution_count": 23,
     "metadata": {},
     "output_type": "execute_result"
    }
   ],
   "source": [
    "sklearn.metrics.confusion_matrix(tensors['test']['y'].cpu().numpy(), np.where(prob_test>=0.85, 1, 0))"
   ]
  },
  {
   "cell_type": "code",
   "execution_count": 27,
   "id": "10836214-908a-483a-b8f5-f25effb5e84a",
   "metadata": {},
   "outputs": [],
   "source": [
    "# _, _, _, prob_train= evaluate('train', eval_batch_size)\n",
    "# val_score, val_precision, val_recall, prob_val = evaluate('val', eval_batch_size)"
   ]
  },
  {
   "cell_type": "code",
   "execution_count": 29,
   "id": "57d7c02f-1f42-40c8-a3ac-004f49d8d5a9",
   "metadata": {},
   "outputs": [],
   "source": [
    "# prob = np.concatenate([prob_train, prob_val, prob_test])\n",
    "# df['transf_prob'] = prob.tolist()"
   ]
  },
  {
   "cell_type": "code",
   "execution_count": 31,
   "id": "ab501d59-4d18-4fbd-b34b-d0705cc95a10",
   "metadata": {},
   "outputs": [],
   "source": [
    "# df.to_csv('dataset_with_transf_prob.csv')"
   ]
  },
  {
   "cell_type": "code",
   "execution_count": null,
   "id": "55e154da-c738-4ece-9de6-38747788462b",
   "metadata": {},
   "outputs": [],
   "source": []
  }
 ],
 "metadata": {
  "accelerator": "GPU",
  "colab": {
   "gpuType": "T4",
   "provenance": []
  },
  "kernelspec": {
   "display_name": "Python 3 (ipykernel)",
   "language": "python",
   "name": "python3"
  },
  "language_info": {
   "codemirror_mode": {
    "name": "ipython",
    "version": 3
   },
   "file_extension": ".py",
   "mimetype": "text/x-python",
   "name": "python",
   "nbconvert_exporter": "python",
   "pygments_lexer": "ipython3",
   "version": "3.9.7"
  }
 },
 "nbformat": 4,
 "nbformat_minor": 5
}
